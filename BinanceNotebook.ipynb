{
 "cells": [
  {
   "cell_type": "code",
   "execution_count": 56,
   "metadata": {},
   "outputs": [],
   "source": [
    "import gspread\n",
    "from oauth2client.service_account import ServiceAccountCredentials\n",
    "\n",
    "scope = ['https://spreadsheets.google.com/feeds',\n",
    "         'https://www.googleapis.com/auth/drive']\n",
    "\n",
    "credentials = ServiceAccountCredentials.from_json_keyfile_name('binance.json', scope)\n",
    "\n",
    "gc = gspread.authorize(credentials)"
   ]
  },
  {
   "cell_type": "code",
   "execution_count": 2,
   "metadata": {},
   "outputs": [],
   "source": [
    "import plumbum"
   ]
  },
  {
   "cell_type": "code",
   "execution_count": 57,
   "metadata": {},
   "outputs": [],
   "source": [
    "wks = gc.open_by_key('17UEB2u_euDqJQzkHW2A0W7WMeIE6V4udkvxAWsP14SA')\n",
    "wks0 = wks.get_worksheet(0)\n",
    "wks1 = wks.get_worksheet(1)\n"
   ]
  },
  {
   "cell_type": "code",
   "execution_count": 58,
   "metadata": {},
   "outputs": [],
   "source": [
    "def list_captable():\n",
    "    retArr = []\n",
    "    for i in range(wks0.row_count):\n",
    "        if i > 0:\n",
    "            temp = {\"to\":wks0.row_values(i+1)[0],\n",
    "                   \"amount\":str(int(wks0.row_values(i+1)[1]))+\":\"+wks1.row_values(2)[0]}\n",
    "            retArr.append(temp)\n",
    "    return json.dumps(retArr)\n",
    "\n",
    "def issue_token():\n",
    "    issuecmd = \"tbnbcli.exe token issue --token-name \\\"{name}\\\" --total-supply {amount} --symbol {ticker} --mintable --from test --chain-id=Binance-Chain-Nile --node=data-seed-pre-2-s1.binance.org:80 --trust-node\".format(name = wks1.row_values(2)[2], ticker = wks1.row_values(2)[0], amount = round(int(wks1.row_values(2)[1])*1e8)) \n",
    "    return issuecmd\n",
    "\n",
    "def transfer_tokens():\n",
    "    issuecmd = \"tbnbcli token multi-send --home ./testnodecli --from test --chain-id=Binance-Chain-Nile --node=data-seed-pre-2-s1.binance.org:80  --transfers \\\"{transfers}\\\" --json\".format(transfers = list_captable())\n",
    "    return issuecmd"
   ]
  },
  {
   "cell_type": "code",
   "execution_count": 41,
   "metadata": {},
   "outputs": [],
   "source": []
  },
  {
   "cell_type": "code",
   "execution_count": 59,
   "metadata": {},
   "outputs": [
    {
     "data": {
      "text/plain": [
       "'tbnbcli.exe token issue --token-name \"OnionCoins\" --total-supply 10000000000000 --symbol ONYN --mintable --from test --chain-id=Binance-Chain-Nile --node=data-seed-pre-2-s1.binance.org:80 --trust-node'"
      ]
     },
     "execution_count": 59,
     "metadata": {},
     "output_type": "execute_result"
    }
   ],
   "source": [
    "issue_token()"
   ]
  },
  {
   "cell_type": "code",
   "execution_count": null,
   "metadata": {},
   "outputs": [],
   "source": []
  },
  {
   "cell_type": "code",
   "execution_count": 60,
   "metadata": {},
   "outputs": [
    {
     "data": {
      "text/plain": [
       "'tbnbcli token multi-send --home ./testnodecli --from test --chain-id=Binance-Chain-Nile --node=data-seed-pre-2-s1.binance.org:80  --transfers \"[{\"to\": \"tbnb1h979dgc9dn8wpae6ltf6lq4cutm8v32jdtgjpt\", \"amount\": \"100:ONYN\"}, {\"to\": \"tbnb17sytdw9ejgrc7vg3hcjd7u3xjwjdxvxyn2lc0g\", \"amount\": \"100:ONYN\"}, {\"to\": \"tbnb1qhnq865cxqpr34g2am7mnd7hnguypuwdyu9332\", \"amount\": \"100:ONYN\"}, {\"to\": \"tbnb1xgztkuvj29nf9we7khyvrqkn8eyd4c5qr58um8\", \"amount\": \"100:ONYN\"}, {\"to\": \"tbnb1pzp7sg4gp7evlprkghlvrk5d0rs7ttlvvanvla\", \"amount\": \"100:ONYN\"}, {\"to\": \"tbnb1765ccw60t20k3zuv2qqr7rwx6334tz443hms98\", \"amount\": \"100:ONYN\"}, {\"to\": \"tbnb1r6aydckxxrekauhd43ygug43rgh89eh9sxm3rn\", \"amount\": \"500:ONYN\"}, {\"to\": \"tbnb138u9djee6fwphhd2a3628q2h0j5w97yx48zqex\", \"amount\": \"500:ONYN\"}]\" --json'"
      ]
     },
     "execution_count": 60,
     "metadata": {},
     "output_type": "execute_result"
    }
   ],
   "source": [
    "transfer_tokens()"
   ]
  },
  {
   "cell_type": "code",
   "execution_count": null,
   "metadata": {},
   "outputs": [],
   "source": []
  }
 ],
 "metadata": {
  "kernelspec": {
   "display_name": "Python 3",
   "language": "python",
   "name": "python3"
  },
  "language_info": {
   "codemirror_mode": {
    "name": "ipython",
    "version": 3
   },
   "file_extension": ".py",
   "mimetype": "text/x-python",
   "name": "python",
   "nbconvert_exporter": "python",
   "pygments_lexer": "ipython3",
   "version": "3.7.3"
  }
 },
 "nbformat": 4,
 "nbformat_minor": 1
}
